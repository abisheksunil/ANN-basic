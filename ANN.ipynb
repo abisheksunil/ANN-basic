{
 "cells": [
  {
   "cell_type": "code",
   "execution_count": 1,
   "id": "interim-honduras",
   "metadata": {},
   "outputs": [],
   "source": [
    "import numpy as np \n",
    "import pandas as pd \n",
    "import tensorflow as tf\n",
    "from tensorflow.keras.datasets import fashion_mnist "
   ]
  },
  {
   "cell_type": "code",
   "execution_count": 2,
   "id": "higher-tuition",
   "metadata": {},
   "outputs": [],
   "source": [
    "(X_train,y_train),(X_test,y_test) = fashion_mnist.load_data()\n"
   ]
  },
  {
   "cell_type": "code",
   "execution_count": 3,
   "id": "compressed-anderson",
   "metadata": {},
   "outputs": [],
   "source": [
    "X_train = X_train/255.\n",
    "X_test = X_test/255."
   ]
  },
  {
   "cell_type": "code",
   "execution_count": 4,
   "id": "daily-paste",
   "metadata": {},
   "outputs": [],
   "source": [
    "X_train = X_train.reshape(-1,28*28)\n",
    "X_test = X_test.reshape(-1, 28*28)"
   ]
  },
  {
   "cell_type": "code",
   "execution_count": 5,
   "id": "fiscal-jaguar",
   "metadata": {},
   "outputs": [],
   "source": [
    "model = tf.keras.models.Sequential()"
   ]
  },
  {
   "cell_type": "code",
   "execution_count": 6,
   "id": "deluxe-extreme",
   "metadata": {},
   "outputs": [],
   "source": [
    "model.add(tf.keras.layers.Dense(units = 128, activation = \"relu\", input_shape=(784,)))"
   ]
  },
  {
   "cell_type": "code",
   "execution_count": 7,
   "id": "aging-ambassador",
   "metadata": {},
   "outputs": [],
   "source": [
    "model.add(tf.keras.layers.Dropout(0.2))"
   ]
  },
  {
   "cell_type": "code",
   "execution_count": 8,
   "id": "convenient-syndicate",
   "metadata": {},
   "outputs": [],
   "source": [
    "model.add(tf.keras.layers.Dense(units = 64, activation = \"relu\"))"
   ]
  },
  {
   "cell_type": "code",
   "execution_count": 9,
   "id": "cross-prospect",
   "metadata": {},
   "outputs": [],
   "source": [
    "model.add(tf.keras.layers.Dropout(0.2))"
   ]
  },
  {
   "cell_type": "code",
   "execution_count": 10,
   "id": "engaging-empire",
   "metadata": {},
   "outputs": [],
   "source": [
    "model.add(tf.keras.layers.Dense(units = 10, activation = \"softmax\"))"
   ]
  },
  {
   "cell_type": "code",
   "execution_count": 11,
   "id": "resident-scope",
   "metadata": {},
   "outputs": [],
   "source": [
    "model.compile(optimizer = 'adam', loss = 'sparse_categorical_crossentropy', metrics = ['sparse_categorical_accuracy'])"
   ]
  },
  {
   "cell_type": "code",
   "execution_count": 12,
   "id": "normal-royalty",
   "metadata": {},
   "outputs": [
    {
     "name": "stdout",
     "output_type": "stream",
     "text": [
      "Model: \"sequential\"\n",
      "_________________________________________________________________\n",
      "Layer (type)                 Output Shape              Param #   \n",
      "=================================================================\n",
      "dense (Dense)                (None, 128)               100480    \n",
      "_________________________________________________________________\n",
      "dropout (Dropout)            (None, 128)               0         \n",
      "_________________________________________________________________\n",
      "dense_1 (Dense)              (None, 64)                8256      \n",
      "_________________________________________________________________\n",
      "dropout_1 (Dropout)          (None, 64)                0         \n",
      "_________________________________________________________________\n",
      "dense_2 (Dense)              (None, 10)                650       \n",
      "=================================================================\n",
      "Total params: 109,386\n",
      "Trainable params: 109,386\n",
      "Non-trainable params: 0\n",
      "_________________________________________________________________\n"
     ]
    }
   ],
   "source": [
    "model.summary()"
   ]
  },
  {
   "cell_type": "code",
   "execution_count": 13,
   "id": "hourly-auditor",
   "metadata": {},
   "outputs": [
    {
     "name": "stdout",
     "output_type": "stream",
     "text": [
      "Train on 60000 samples\n",
      "Epoch 1/11\n",
      "60000/60000 [==============================] - 3s 57us/sample - loss: 0.5800 - sparse_categorical_accuracy: 0.7904\n",
      "Epoch 2/11\n",
      "60000/60000 [==============================] - 3s 43us/sample - loss: 0.4311 - sparse_categorical_accuracy: 0.8450\n",
      "Epoch 3/11\n",
      "60000/60000 [==============================] - 3s 44us/sample - loss: 0.3945 - sparse_categorical_accuracy: 0.8583\n",
      "Epoch 4/11\n",
      "60000/60000 [==============================] - 3s 43us/sample - loss: 0.3702 - sparse_categorical_accuracy: 0.8646\n",
      "Epoch 5/11\n",
      "60000/60000 [==============================] - 3s 43us/sample - loss: 0.3536 - sparse_categorical_accuracy: 0.8692\n",
      "Epoch 6/11\n",
      "60000/60000 [==============================] - 3s 43us/sample - loss: 0.3392 - sparse_categorical_accuracy: 0.8755\n",
      "Epoch 7/11\n",
      "60000/60000 [==============================] - 3s 43us/sample - loss: 0.3314 - sparse_categorical_accuracy: 0.8780\n",
      "Epoch 8/11\n",
      "60000/60000 [==============================] - 3s 43us/sample - loss: 0.3241 - sparse_categorical_accuracy: 0.8808\n",
      "Epoch 9/11\n",
      "60000/60000 [==============================] - 3s 44us/sample - loss: 0.3163 - sparse_categorical_accuracy: 0.8825\n",
      "Epoch 10/11\n",
      "60000/60000 [==============================] - 3s 43us/sample - loss: 0.3076 - sparse_categorical_accuracy: 0.8854\n",
      "Epoch 11/11\n",
      "60000/60000 [==============================] - 3s 43us/sample - loss: 0.3038 - sparse_categorical_accuracy: 0.88771s - loss: 0.2950 - s\n"
     ]
    },
    {
     "data": {
      "text/plain": [
       "<tensorflow.python.keras.callbacks.History at 0x21a49be39c8>"
      ]
     },
     "execution_count": 13,
     "metadata": {},
     "output_type": "execute_result"
    }
   ],
   "source": [
    "model.fit(X_train,y_train,epochs = 11)"
   ]
  },
  {
   "cell_type": "code",
   "execution_count": 14,
   "id": "ideal-happening",
   "metadata": {},
   "outputs": [
    {
     "name": "stdout",
     "output_type": "stream",
     "text": [
      "10000/10000 [==============================] - 0s 42us/sample - loss: 0.3456 - sparse_categorical_accuracy: 0.8780\n"
     ]
    }
   ],
   "source": [
    "test_loss, test_accuracy = model.evaluate(X_test,y_test)"
   ]
  },
  {
   "cell_type": "code",
   "execution_count": 15,
   "id": "referenced-regard",
   "metadata": {},
   "outputs": [
    {
     "name": "stdout",
     "output_type": "stream",
     "text": [
      "0.34561044158935544\n"
     ]
    }
   ],
   "source": [
    "print(test_loss)"
   ]
  },
  {
   "cell_type": "code",
   "execution_count": 16,
   "id": "dietary-arkansas",
   "metadata": {},
   "outputs": [
    {
     "name": "stdout",
     "output_type": "stream",
     "text": [
      "0.878\n"
     ]
    }
   ],
   "source": [
    "print(test_accuracy)"
   ]
  }
 ],
 "metadata": {
  "kernelspec": {
   "display_name": "Python 3.7 (tensorflow)",
   "language": "python",
   "name": "tensorflow"
  },
  "language_info": {
   "codemirror_mode": {
    "name": "ipython",
    "version": 3
   },
   "file_extension": ".py",
   "mimetype": "text/x-python",
   "name": "python",
   "nbconvert_exporter": "python",
   "pygments_lexer": "ipython3",
   "version": "3.7.10"
  }
 },
 "nbformat": 4,
 "nbformat_minor": 5
}
